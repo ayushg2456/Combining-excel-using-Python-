{
 "cells": [
  {
   "cell_type": "code",
   "execution_count": null,
   "metadata": {},
   "outputs": [],
   "source": [
    "# DPR well-wise data extraction\n",
    "import pandas as pd\n",
    "import numpy as np\n",
    "import glob\n",
    "import os\n",
    "import os, random\n",
    "from openpyxl import load_workbook  \n",
    "import matplotlib.pyplot as plot"
   ]
  },
  {
   "cell_type": "code",
   "execution_count": null,
   "metadata": {},
   "outputs": [],
   "source": [
    "path = \"C:\\\\D Drive\\\\Ayush\\\\5.Field data\\\\Running_files\\\\\"  # creating path for file reading; maintain the  \\\\ in folder name\n",
    "os.listdir(path)"
   ]
  },
  {
   "cell_type": "code",
   "execution_count": null,
   "metadata": {},
   "outputs": [],
   "source": [
    "dat = []\n",
    "for files in os.listdir(path):\n",
    "    wb= load_workbook(os.path.join(path,files),data_only = True)\n",
    "    dprshet=wb[wb.sheetnames[0]]\n",
    "    dpr_day = dprshet[\"T8\"].value\n",
    "    dat.append(dpr_day)\n",
    "date = pd.DataFrame(dat)\n",
    "date.columns= [\"Date\"]"
   ]
  },
  {
   "cell_type": "code",
   "execution_count": null,
   "metadata": {},
   "outputs": [],
   "source": [
    "date"
   ]
  },
  {
   "cell_type": "code",
   "execution_count": null,
   "metadata": {},
   "outputs": [],
   "source": [
    "# DO NOT CHANGE NAMES \n",
    "# Loading values from different cells\n",
    "data = pd.DataFrame()\n",
    "for files in os.listdir(path):\n",
    "    wb= load_workbook(os.path.join(path,files),data_only = True)\n",
    "    dprshet=wb[wb.sheetnames[0]]\n",
    "    SC_Ga = dprshet[\"M4\"].value\n",
    "\n",
    "    ATM = dprshet[\"M5\"].value\n",
    "    Intrl_comsp = dprshet[\"M6\"].value\n",
    "#    RC_Wtr = dprshet[\"M10\"].value\n",
    "#    SC_Wtr = dprshet[\"M11\"].value\n",
    "#    RC_ME_SS = dprshet[\"J23\"].value\n",
    "    SC_ME_SS = dprshet[\"J36\"].value    \n",
    "    \n",
    "    OT_ME_comsp = dprshet[\"O17\"].value         # OT DATA\n",
    "#    OT_CI_comsp = dprshet[\"R17\"].value\n",
    "    Liq_SCA = dprshet[\"D82\"].value\n",
    "    SCA_CI = dprshet[\"M82\"].value\n",
    "#    SCB_CI= dprshet[\"M83\"].value\n",
    "    SCA_SAL = dprshet[\"N82\"].value\n",
    "#    SCB_SAL = dprshet[\"N83\"].value\n",
    "    SCA_RicME_mois_avg=dprshet[\"J79\"].value\n",
    "#    SCB_RicME_mois_avg=dprshet[\"L79\"].value\n",
    "    SCA_RicMG_OILpc_avg = dprshet[\"K79\"].value\n",
    "#    SCB_RicMG_OILpc_avg = dprshet[\"M79\"].value\n",
    "   \n",
    "    dprdt = pd.DataFrame([[SC_Ga],[ATM],[Intrl_comsp],\n",
    "                           [SC_ME_SS],[OT_ME_comsp],[Liq_SCA],\n",
    "                         [SCA_CI],[SCA_SAL],[SCA_RicME_mois_avg],\n",
    "                         [SCA_RicMG_OILpc_avg]])\n",
    "    dprdt = dprdt.T\n",
    "    data = data.append(dprdt) \n",
    "data=data.astype(float)\n",
    "data.reset_index(inplace = True,drop=True)      # reseting index"
   ]
  },
  {
   "cell_type": "code",
   "execution_count": null,
   "metadata": {},
   "outputs": [],
   "source": [
    "Parameter_list = ['SC_Ga','ATM','Intrl_comsp','SC_ME_SS','OT_ME_comsp',\n",
    "                  'Liq_SCA','SCA_CI',\n",
    "                  'SCA_SAL','SCA_RicME_mois_avg','SCA_RicMG_OILpc_avg']\n",
    "data.columns = Parameter_list"
   ]
  },
  {
   "cell_type": "code",
   "execution_count": null,
   "metadata": {},
   "outputs": [],
   "source": [
    "data.head()"
   ]
  },
  {
   "cell_type": "code",
   "execution_count": null,
   "metadata": {},
   "outputs": [],
   "source": []
  }
 ],
 "metadata": {
  "kernelspec": {
   "display_name": "Python 3",
   "language": "python",
   "name": "python3"
  },
  "language_info": {
   "codemirror_mode": {
    "name": "ipython",
    "version": 3
   },
   "file_extension": ".py",
   "mimetype": "text/x-python",
   "name": "python",
   "nbconvert_exporter": "python",
   "pygments_lexer": "ipython3",
   "version": "3.8.8"
  }
 },
 "nbformat": 4,
 "nbformat_minor": 2
}
